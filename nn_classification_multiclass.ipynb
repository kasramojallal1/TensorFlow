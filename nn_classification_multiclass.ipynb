{
 "cells": [
  {
   "cell_type": "code",
   "execution_count": 5,
   "metadata": {},
   "outputs": [],
   "source": [
    "import tensorflow as tf\n",
    "from tensorflow.keras.datasets import fashion_mnist"
   ]
  },
  {
   "cell_type": "code",
   "execution_count": 6,
   "metadata": {},
   "outputs": [
    {
     "name": "stdout",
     "output_type": "stream",
     "text": [
      "Downloading data from https://storage.googleapis.com/tensorflow/tf-keras-datasets/train-labels-idx1-ubyte.gz\n",
      "32768/29515 [=================================] - 1s 18us/step\n",
      "40960/29515 [=========================================] - 1s 14us/step\n",
      "Downloading data from https://storage.googleapis.com/tensorflow/tf-keras-datasets/train-images-idx3-ubyte.gz\n",
      "26427392/26421880 [==============================] - 8s 0us/step\n",
      "26435584/26421880 [==============================] - 8s 0us/step\n",
      "Downloading data from https://storage.googleapis.com/tensorflow/tf-keras-datasets/t10k-labels-idx1-ubyte.gz\n",
      "16384/5148 [===============================================================================================] - 0s 0us/step\n",
      "Downloading data from https://storage.googleapis.com/tensorflow/tf-keras-datasets/t10k-images-idx3-ubyte.gz\n",
      "4423680/4422102 [==============================] - 2s 1us/step\n",
      "4431872/4422102 [==============================] - 2s 1us/step\n"
     ]
    }
   ],
   "source": [
    "(train_data, train_labels), (test_data, test_labels) = fashion_mnist.load_data()"
   ]
  },
  {
   "cell_type": "code",
   "execution_count": 7,
   "metadata": {},
   "outputs": [],
   "source": [
    "import matplotlib.pyplot as plt"
   ]
  },
  {
   "cell_type": "code",
   "execution_count": 10,
   "metadata": {},
   "outputs": [
    {
     "data": {
      "text/plain": [
       "<matplotlib.image.AxesImage at 0x7f98351ed130>"
      ]
     },
     "execution_count": 10,
     "metadata": {},
     "output_type": "execute_result"
    },
    {
     "data": {
      "image/png": "[encoded data removed]",
      "text/plain": [
       "<Figure size 432x288 with 1 Axes>"
      ]
     },
     "metadata": {
      "needs_background": "light"
     },
     "output_type": "display_data"
    }
   ],
   "source": [
    "plt.imshow(train_data[0])"
   ]
  },
  {
   "cell_type": "code",
   "execution_count": 11,
   "metadata": {},
   "outputs": [],
   "source": [
    "class_names = ['T-shirt/top', 'Trouser', 'Pullover', 'Dress', 'Coat', \n",
    "               'Sandal', 'Shirt', 'Sneaker', 'Bag', 'Ankle boot']"
   ]
  },
  {
   "cell_type": "code",
   "execution_count": 21,
   "metadata": {},
   "outputs": [
    {
     "name": "stdout",
     "output_type": "stream",
     "text": [
      "Epoch 1/10\n",
      "1875/1875 [==============================] - 2s 737us/step - loss: 2.1568 - accuracy: 0.1639 - val_loss: 1.7870 - val_accuracy: 0.2136\n",
      "Epoch 2/10\n",
      "1875/1875 [==============================] - 1s 671us/step - loss: 1.6997 - accuracy: 0.2536 - val_loss: 1.6468 - val_accuracy: 0.2816\n",
      "Epoch 3/10\n",
      "1875/1875 [==============================] - 1s 729us/step - loss: 1.6316 - accuracy: 0.2802 - val_loss: 1.6084 - val_accuracy: 0.2831\n",
      "Epoch 4/10\n",
      "1875/1875 [==============================] - 1s 672us/step - loss: 1.6027 - accuracy: 0.2844 - val_loss: 1.6116 - val_accuracy: 0.2896\n",
      "Epoch 5/10\n",
      "1875/1875 [==============================] - 1s 791us/step - loss: 1.6009 - accuracy: 0.2864 - val_loss: 1.5934 - val_accuracy: 0.2926\n",
      "Epoch 6/10\n",
      "1875/1875 [==============================] - 1s 737us/step - loss: 1.5897 - accuracy: 0.2952 - val_loss: 1.5774 - val_accuracy: 0.2836\n",
      "Epoch 7/10\n",
      "1875/1875 [==============================] - 1s 711us/step - loss: 1.5781 - accuracy: 0.3060 - val_loss: 1.5727 - val_accuracy: 0.3101\n",
      "Epoch 8/10\n",
      "1875/1875 [==============================] - 1s 694us/step - loss: 1.5694 - accuracy: 0.3147 - val_loss: 1.5849 - val_accuracy: 0.3176\n",
      "Epoch 9/10\n",
      "1875/1875 [==============================] - 1s 685us/step - loss: 1.5535 - accuracy: 0.3342 - val_loss: 1.5501 - val_accuracy: 0.3357\n",
      "Epoch 10/10\n",
      "1875/1875 [==============================] - 1s 665us/step - loss: 1.5202 - accuracy: 0.3507 - val_loss: 1.4938 - val_accuracy: 0.3608\n"
     ]
    }
   ],
   "source": [
    "tf.random.set_seed(42)\n",
    "\n",
    "model_1 = tf.keras.Sequential([\n",
    "    tf.keras.layers.Flatten(input_shape=(28, 28)),\n",
    "    tf.keras.layers.Dense(4, activation='relu'),\n",
    "    tf.keras.layers.Dense(4, activation='relu'),\n",
    "    tf.keras.layers.Dense(10, activation='softmax')\n",
    "])\n",
    "\n",
    "model_1.compile(loss = tf.keras.losses.SparseCategoricalCrossentropy(),\n",
    "                optimizer = tf.keras.optimizers.Adam(),\n",
    "                metrics = ['accuracy'])\n",
    "\n",
    "history_1 = model_1.fit(train_data,\n",
    "            train_labels,\n",
    "            epochs = 10,\n",
    "            validation_data = (test_data, test_labels))"
   ]
  },
  {
   "cell_type": "code",
   "execution_count": 18,
   "metadata": {},
   "outputs": [],
   "source": [
    "train_data_norm = train_data / 255.0\n",
    "test_data_norm = test_data / 255.0"
   ]
  },
  {
   "cell_type": "code",
   "execution_count": 20,
   "metadata": {},
   "outputs": [
    {
     "name": "stdout",
     "output_type": "stream",
     "text": [
      "Epoch 1/10\n",
      "1875/1875 [==============================] - 2s 720us/step - loss: 1.0348 - accuracy: 0.6474 - val_loss: 0.6937 - val_accuracy: 0.7617\n",
      "Epoch 2/10\n",
      "1875/1875 [==============================] - 1s 665us/step - loss: 0.6376 - accuracy: 0.7757 - val_loss: 0.6400 - val_accuracy: 0.7820\n",
      "Epoch 3/10\n",
      "1875/1875 [==============================] - 1s 684us/step - loss: 0.5942 - accuracy: 0.7914 - val_loss: 0.6247 - val_accuracy: 0.7783\n",
      "Epoch 4/10\n",
      "1875/1875 [==============================] - 2s 811us/step - loss: 0.5750 - accuracy: 0.7979 - val_loss: 0.6078 - val_accuracy: 0.7881\n",
      "Epoch 5/10\n",
      "1875/1875 [==============================] - 1s 660us/step - loss: 0.5641 - accuracy: 0.8006 - val_loss: 0.6169 - val_accuracy: 0.7881\n",
      "Epoch 6/10\n",
      "1875/1875 [==============================] - 1s 651us/step - loss: 0.5544 - accuracy: 0.8043 - val_loss: 0.5855 - val_accuracy: 0.7951\n",
      "Epoch 7/10\n",
      "1875/1875 [==============================] - 1s 663us/step - loss: 0.5488 - accuracy: 0.8063 - val_loss: 0.6097 - val_accuracy: 0.7836\n",
      "Epoch 8/10\n",
      "1875/1875 [==============================] - 1s 661us/step - loss: 0.5428 - accuracy: 0.8077 - val_loss: 0.5787 - val_accuracy: 0.7971\n",
      "Epoch 9/10\n",
      "1875/1875 [==============================] - 1s 654us/step - loss: 0.5373 - accuracy: 0.8097 - val_loss: 0.5698 - val_accuracy: 0.7977\n",
      "Epoch 10/10\n",
      "1875/1875 [==============================] - 1s 661us/step - loss: 0.5360 - accuracy: 0.8124 - val_loss: 0.5658 - val_accuracy: 0.8014\n"
     ]
    }
   ],
   "source": [
    "tf.random.set_seed(42)\n",
    "\n",
    "model_2 = tf.keras.Sequential([\n",
    "    tf.keras.layers.Flatten(input_shape=(28, 28)),\n",
    "    tf.keras.layers.Dense(4, activation='relu'),\n",
    "    tf.keras.layers.Dense(4, activation='relu'),\n",
    "    tf.keras.layers.Dense(10, activation='softmax')\n",
    "])\n",
    "\n",
    "model_2.compile(loss = tf.keras.losses.SparseCategoricalCrossentropy(),\n",
    "                optimizer = tf.keras.optimizers.Adam(),\n",
    "                metrics = ['accuracy'])\n",
    "\n",
    "history_2 = model_2.fit(train_data_norm,\n",
    "            train_labels,\n",
    "            epochs = 10,\n",
    "            validation_data = (test_data_norm, test_labels))"
   ]
  },
  {
   "cell_type": "code",
   "execution_count": 22,
   "metadata": {},
   "outputs": [
    {
     "data": {
      "image/png": "[encoded data removed]",
      "text/plain": [
       "<Figure size 432x288 with 1 Axes>"
      ]
     },
     "metadata": {
      "needs_background": "light"
     },
     "output_type": "display_data"
    },
    {
     "data": {
      "image/png": "[encoded data removed]",
      "text/plain": [
       "<Figure size 432x288 with 1 Axes>"
      ]
     },
     "metadata": {
      "needs_background": "light"
     },
     "output_type": "display_data"
    }
   ],
   "source": [
    "import pandas as pd\n",
    "pd.DataFrame(history_1.history).plot(title=\"Non-normalized Data\")\n",
    "pd.DataFrame(history_2.history).plot(title=\"Normalized data\");"
   ]
  },
  {
   "cell_type": "code",
   "execution_count": 23,
   "metadata": {},
   "outputs": [
    {
     "name": "stdout",
     "output_type": "stream",
     "text": [
      "Epoch 1/40\n",
      "1875/1875 [==============================] - 2s 794us/step - loss: 1.0348 - accuracy: 0.6474 - val_loss: 0.6937 - val_accuracy: 0.7617\n",
      "Epoch 2/40\n",
      "1875/1875 [==============================] - 1s 780us/step - loss: 0.6366 - accuracy: 0.7759 - val_loss: 0.6400 - val_accuracy: 0.7808\n",
      "Epoch 3/40\n",
      "1875/1875 [==============================] - 1s 743us/step - loss: 0.5934 - accuracy: 0.7911 - val_loss: 0.6278 - val_accuracy: 0.7770\n",
      "Epoch 4/40\n",
      "1875/1875 [==============================] - 2s 804us/step - loss: 0.5749 - accuracy: 0.7969 - val_loss: 0.6122 - val_accuracy: 0.7871\n",
      "Epoch 5/40\n",
      "1875/1875 [==============================] - 2s 833us/step - loss: 0.5655 - accuracy: 0.7987 - val_loss: 0.6061 - val_accuracy: 0.7913\n",
      "Epoch 6/40\n",
      "1875/1875 [==============================] - 1s 696us/step - loss: 0.5569 - accuracy: 0.8022 - val_loss: 0.5917 - val_accuracy: 0.7940\n",
      "Epoch 7/40\n",
      "1875/1875 [==============================] - 1s 696us/step - loss: 0.5542 - accuracy: 0.8036 - val_loss: 0.5898 - val_accuracy: 0.7896\n",
      "Epoch 8/40\n",
      "1875/1875 [==============================] - 1s 723us/step - loss: 0.5509 - accuracy: 0.8039 - val_loss: 0.5829 - val_accuracy: 0.7949\n",
      "Epoch 9/40\n",
      "1875/1875 [==============================] - 1s 727us/step - loss: 0.5468 - accuracy: 0.8047 - val_loss: 0.6036 - val_accuracy: 0.7833\n",
      "Epoch 10/40\n",
      "1875/1875 [==============================] - 2s 855us/step - loss: 0.5478 - accuracy: 0.8058 - val_loss: 0.5736 - val_accuracy: 0.7974\n",
      "Epoch 11/40\n",
      "1875/1875 [==============================] - 1s 711us/step - loss: 0.5446 - accuracy: 0.8059 - val_loss: 0.5672 - val_accuracy: 0.8016\n",
      "Epoch 12/40\n",
      "1875/1875 [==============================] - 1s 697us/step - loss: 0.5432 - accuracy: 0.8067 - val_loss: 0.5773 - val_accuracy: 0.7950\n",
      "Epoch 13/40\n",
      "1875/1875 [==============================] - 2s 974us/step - loss: 0.5425 - accuracy: 0.8056 - val_loss: 0.5775 - val_accuracy: 0.7992\n",
      "Epoch 14/40\n",
      "1875/1875 [==============================] - 1s 794us/step - loss: 0.5407 - accuracy: 0.8078 - val_loss: 0.5616 - val_accuracy: 0.8075\n",
      "Epoch 15/40\n",
      "1875/1875 [==============================] - 2s 939us/step - loss: 0.5408 - accuracy: 0.8052 - val_loss: 0.5773 - val_accuracy: 0.8039\n",
      "Epoch 16/40\n",
      "1875/1875 [==============================] - 1s 702us/step - loss: 0.5437 - accuracy: 0.8058 - val_loss: 0.5682 - val_accuracy: 0.8015\n",
      "Epoch 17/40\n",
      "1875/1875 [==============================] - 1s 709us/step - loss: 0.5419 - accuracy: 0.8075 - val_loss: 0.5995 - val_accuracy: 0.7964\n",
      "Epoch 18/40\n",
      "1875/1875 [==============================] - 1s 698us/step - loss: 0.5488 - accuracy: 0.8058 - val_loss: 0.5544 - val_accuracy: 0.8087\n",
      "Epoch 19/40\n",
      "1875/1875 [==============================] - 1s 702us/step - loss: 0.5506 - accuracy: 0.8042 - val_loss: 0.6068 - val_accuracy: 0.7864\n",
      "Epoch 20/40\n",
      "1875/1875 [==============================] - 1s 701us/step - loss: 0.5540 - accuracy: 0.8026 - val_loss: 0.5625 - val_accuracy: 0.8082\n",
      "Epoch 21/40\n",
      "1875/1875 [==============================] - 1s 695us/step - loss: 0.5573 - accuracy: 0.8033 - val_loss: 0.5993 - val_accuracy: 0.7935\n",
      "Epoch 22/40\n",
      "1875/1875 [==============================] - 1s 702us/step - loss: 0.5603 - accuracy: 0.8017 - val_loss: 0.5866 - val_accuracy: 0.8007\n",
      "Epoch 23/40\n",
      "1875/1875 [==============================] - 1s 699us/step - loss: 0.5667 - accuracy: 0.8011 - val_loss: 0.6679 - val_accuracy: 0.7495\n",
      "Epoch 24/40\n",
      "1875/1875 [==============================] - 1s 695us/step - loss: 0.5812 - accuracy: 0.7966 - val_loss: 0.6203 - val_accuracy: 0.7909\n",
      "Epoch 25/40\n",
      "1875/1875 [==============================] - 1s 694us/step - loss: 0.5831 - accuracy: 0.7958 - val_loss: 0.6277 - val_accuracy: 0.7924\n",
      "Epoch 26/40\n",
      "1875/1875 [==============================] - 1s 704us/step - loss: 0.5946 - accuracy: 0.7912 - val_loss: 0.6936 - val_accuracy: 0.7825\n",
      "Epoch 27/40\n",
      "1875/1875 [==============================] - 1s 696us/step - loss: 0.6107 - accuracy: 0.7871 - val_loss: 0.6150 - val_accuracy: 0.7875\n",
      "Epoch 28/40\n",
      "1875/1875 [==============================] - 1s 700us/step - loss: 0.6149 - accuracy: 0.7835 - val_loss: 0.6436 - val_accuracy: 0.7846\n",
      "Epoch 29/40\n",
      "1875/1875 [==============================] - 1s 702us/step - loss: 0.6363 - accuracy: 0.7749 - val_loss: 0.6358 - val_accuracy: 0.7719\n",
      "Epoch 30/40\n",
      "1875/1875 [==============================] - 1s 701us/step - loss: 0.6612 - accuracy: 0.7689 - val_loss: 0.6754 - val_accuracy: 0.7682\n",
      "Epoch 31/40\n",
      "1875/1875 [==============================] - 1s 711us/step - loss: 0.6784 - accuracy: 0.7626 - val_loss: 0.7532 - val_accuracy: 0.7209\n",
      "Epoch 32/40\n",
      "1875/1875 [==============================] - 1s 708us/step - loss: 0.7146 - accuracy: 0.7533 - val_loss: 0.8603 - val_accuracy: 0.7085\n",
      "Epoch 33/40\n",
      "1875/1875 [==============================] - 1s 701us/step - loss: 0.7455 - accuracy: 0.7451 - val_loss: 1.0201 - val_accuracy: 0.7241\n",
      "Epoch 34/40\n",
      "1875/1875 [==============================] - 1s 711us/step - loss: 0.7966 - accuracy: 0.7335 - val_loss: 0.8498 - val_accuracy: 0.7027\n",
      "Epoch 35/40\n",
      "1875/1875 [==============================] - 1s 697us/step - loss: 0.8280 - accuracy: 0.7170 - val_loss: 0.8115 - val_accuracy: 0.7122\n",
      "Epoch 36/40\n",
      "1875/1875 [==============================] - 1s 722us/step - loss: 0.8541 - accuracy: 0.7110 - val_loss: 0.9514 - val_accuracy: 0.6644\n",
      "Epoch 37/40\n",
      "1875/1875 [==============================] - 1s 694us/step - loss: 0.9898 - accuracy: 0.6447 - val_loss: 1.0472 - val_accuracy: 0.6374\n",
      "Epoch 38/40\n",
      "1875/1875 [==============================] - 1s 712us/step - loss: 1.1108 - accuracy: 0.5920 - val_loss: 1.2460 - val_accuracy: 0.5066\n",
      "Epoch 39/40\n",
      "1875/1875 [==============================] - 1s 703us/step - loss: 1.3384 - accuracy: 0.4573 - val_loss: 1.4723 - val_accuracy: 0.3915\n",
      "Epoch 40/40\n",
      "1875/1875 [==============================] - 1s 703us/step - loss: 1.4756 - accuracy: 0.3704 - val_loss: 1.5305 - val_accuracy: 0.3644\n"
     ]
    }
   ],
   "source": [
    "tf.random.set_seed(42)\n",
    "\n",
    "model_3 = tf.keras.Sequential([\n",
    "    tf.keras.layers.Flatten(input_shape=(28, 28)),\n",
    "    tf.keras.layers.Dense(4, activation='relu'),\n",
    "    tf.keras.layers.Dense(4, activation='relu'),\n",
    "    tf.keras.layers.Dense(10, activation='softmax')\n",
    "])\n",
    "\n",
    "model_3.compile(loss = tf.keras.losses.SparseCategoricalCrossentropy(),\n",
    "                optimizer = tf.keras.optimizers.Adam(),\n",
    "                metrics = ['accuracy'])\n",
    "\n",
    "lr_scheduler = tf.keras.callbacks.LearningRateScheduler(lambda epoch: 1e-3 * 10 ** (epoch/20))\n",
    "\n",
    "history_3 = model_3.fit(train_data_norm,\n",
    "            train_labels,\n",
    "            epochs = 40,\n",
    "            validation_data = (test_data_norm, test_labels),\n",
    "            callbacks = [lr_scheduler])"
   ]
  },
  {
   "cell_type": "code",
   "execution_count": null,
   "metadata": {},
   "outputs": [],
   "source": []
  }
 ],
 "metadata": {
  "interpreter": {
   "hash": "ba181f63e9d4d2546882c6557f001599fbd08286524a1352a15ceb4bcf4e5348"
  },
  "kernelspec": {
   "display_name": "Python 3.8.2 ('base')",
   "language": "python",
   "name": "python3"
  },
  "language_info": {
   "codemirror_mode": {
    "name": "ipython",
    "version": 3
   },
   "file_extension": ".py",
   "mimetype": "text/x-python",
   "name": "python",
   "nbconvert_exporter": "python",
   "pygments_lexer": "ipython3",
   "version": "3.8.2"
  },
  "orig_nbformat": 4
 },
 "nbformat": 4,
 "nbformat_minor": 2
}

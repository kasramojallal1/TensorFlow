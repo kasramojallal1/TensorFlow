{
 "cells": [
  {
   "cell_type": "code",
   "execution_count": 1,
   "metadata": {},
   "outputs": [],
   "source": [
    "import matplotlib.pyplot as plt\n",
    "import matplotlib.image as mpimg\n",
    "import random\n",
    "import tensorflow as tf\n",
    "from tensorflow.keras.preprocessing.image import ImageDataGenerator\n",
    "\n",
    "from tensorflow.keras.optimizers import Adam\n",
    "from tensorflow.keras.layers import Dense, Flatten, Conv2D, MaxPool2D, Activation\n",
    "from tensorflow.keras import Sequential"
   ]
  },
  {
   "cell_type": "code",
   "execution_count": 2,
   "metadata": {},
   "outputs": [],
   "source": [
    "def view_random_image(target_dir, target_class):\n",
    "  \n",
    "  target_folder = target_dir + '/' + target_class\n",
    "\n",
    "  random_image = random.sample(os.listdir(target_folder), 1)\n",
    "\n",
    "  img = mpimg.imread(target_folder + \"/\" + random_image[0])\n",
    "  plt.imshow(img)\n",
    "  plt.title(target_class)\n",
    "  plt.axis(\"off\")\n",
    "\n",
    "  print(f\"Image shape: {img.shape}\")\n",
    "\n",
    "  return img"
   ]
  },
  {
   "cell_type": "code",
   "execution_count": 3,
   "metadata": {},
   "outputs": [],
   "source": [
    "def plot_loss_curves(history):\n",
    "    \n",
    "  loss = history.history['loss']\n",
    "  val_loss = history.history['val_loss']\n",
    "\n",
    "  accuracy = history.history['accuracy']\n",
    "  val_accuracy = history.history['val_accuracy']\n",
    "\n",
    "  epochs = range(len(history.history['loss']))\n",
    "\n",
    "  # Plot loss\n",
    "  plt.plot(epochs, loss, label='training_loss')\n",
    "  plt.plot(epochs, val_loss, label='val_loss')\n",
    "  plt.title('Loss')\n",
    "  plt.xlabel('Epochs')\n",
    "  plt.legend()\n",
    "\n",
    "  # Plot accuracy\n",
    "  plt.figure()\n",
    "  plt.plot(epochs, accuracy, label='training_accuracy')\n",
    "  plt.plot(epochs, val_accuracy, label='val_accuracy')\n",
    "  plt.title('Accuracy')\n",
    "  plt.xlabel('Epochs')\n",
    "  plt.legend()"
   ]
  },
  {
   "cell_type": "code",
   "execution_count": 4,
   "metadata": {},
   "outputs": [],
   "source": [
    "train_datagen_augmented = ImageDataGenerator(rescale=1/255.,\n",
    "                                             rotation_range=0.2,\n",
    "                                             shear_range=0.2,\n",
    "                                             zoom_range=0.2,\n",
    "                                             width_shift_range=0.2,\n",
    "                                             height_shift_range=0.3,\n",
    "                                             horizontal_flip=True)\n",
    "\n",
    "train_datagen = ImageDataGenerator(rescale=1/255.)\n",
    "\n",
    "test_datagen = ImageDataGenerator(1/255.)"
   ]
  },
  {
   "cell_type": "code",
   "execution_count": 5,
   "metadata": {},
   "outputs": [],
   "source": [
    "train_dir = './datasets/pizza_steak/train'\n",
    "test_dir = './datasets/pizza_steak/test'"
   ]
  },
  {
   "cell_type": "code",
   "execution_count": 6,
   "metadata": {},
   "outputs": [
    {
     "name": "stdout",
     "output_type": "stream",
     "text": [
      "Found 1500 images belonging to 2 classes.\n",
      "Found 1500 images belonging to 2 classes.\n",
      "Found 500 images belonging to 2 classes.\n"
     ]
    }
   ],
   "source": [
    "train_data_augmented_shuffled = train_datagen_augmented.flow_from_directory(train_dir,\n",
    "                                                                   target_size=(224, 224),\n",
    "                                                                   batch_size=32,\n",
    "                                                                   class_mode='binary',\n",
    "                                                                   shuffle=True)\n",
    "\n",
    "train_data = train_datagen.flow_from_directory(train_dir,\n",
    "                                               target_size=(224, 224),\n",
    "                                               batch_size=32,\n",
    "                                               class_mode='binary',\n",
    "                                               shuffle=False)\n",
    "\n",
    "test_data = test_datagen.flow_from_directory(test_dir,\n",
    "                                             target_size=(224, 224),\n",
    "                                             batch_size=32,\n",
    "                                             class_mode='binary')"
   ]
  },
  {
   "cell_type": "code",
   "execution_count": 11,
   "metadata": {},
   "outputs": [
    {
     "name": "stdout",
     "output_type": "stream",
     "text": [
      "Epoch 1/5\n",
      "47/47 [==============================] - 26s 540ms/step - loss: 0.6820 - accuracy: 0.5540 - val_loss: 73.2228 - val_accuracy: 0.5180\n",
      "Epoch 2/5\n",
      "47/47 [==============================] - 24s 513ms/step - loss: 0.6019 - accuracy: 0.6767 - val_loss: 43.4565 - val_accuracy: 0.7200\n",
      "Epoch 3/5\n",
      "47/47 [==============================] - 24s 516ms/step - loss: 0.5372 - accuracy: 0.7400 - val_loss: 87.0688 - val_accuracy: 0.6660\n",
      "Epoch 4/5\n",
      "47/47 [==============================] - 24s 514ms/step - loss: 0.5167 - accuracy: 0.7493 - val_loss: 88.4157 - val_accuracy: 0.6480\n",
      "Epoch 5/5\n",
      "47/47 [==============================] - 24s 517ms/step - loss: 0.5039 - accuracy: 0.7673 - val_loss: 114.0761 - val_accuracy: 0.6580\n"
     ]
    }
   ],
   "source": [
    "model_7 = Sequential([\n",
    "  Conv2D(10, 3, activation='relu', input_shape=(224, 224, 3)),\n",
    "  MaxPool2D(pool_size=2),\n",
    "  Conv2D(10, 3, activation='relu'),\n",
    "  MaxPool2D(),\n",
    "  Conv2D(10, 3, activation='relu'),\n",
    "  MaxPool2D(),\n",
    "  Flatten(),\n",
    "  Dense(1, activation='sigmoid')\n",
    "])\n",
    "\n",
    "model_7.compile(loss='binary_crossentropy',\n",
    "                optimizer=Adam(),\n",
    "                metrics=['accuracy'])\n",
    "\n",
    "history_7 = model_7.fit(train_data_augmented_shuffled,\n",
    "                        epochs=5,\n",
    "                        steps_per_epoch=len(train_data_augmented_shuffled),\n",
    "                        validation_data=test_data,\n",
    "                        validation_steps=len(test_data))"
   ]
  },
  {
   "cell_type": "code",
   "execution_count": 10,
   "metadata": {},
   "outputs": [
    {
     "data": {
      "image/png": "[encoded data removed]",
      "text/plain": [
       "<Figure size 432x288 with 1 Axes>"
      ]
     },
     "metadata": {
      "needs_background": "light"
     },
     "output_type": "display_data"
    },
    {
     "data": {
      "image/png": "[encoded data removed]",
      "text/plain": [
       "<Figure size 432x288 with 1 Axes>"
      ]
     },
     "metadata": {
      "needs_background": "light"
     },
     "output_type": "display_data"
    }
   ],
   "source": [
    "plot_loss_curves(history_7)"
   ]
  },
  {
   "cell_type": "code",
   "execution_count": null,
   "metadata": {},
   "outputs": [],
   "source": []
  }
 ],
 "metadata": {
  "interpreter": {
   "hash": "ba181f63e9d4d2546882c6557f001599fbd08286524a1352a15ceb4bcf4e5348"
  },
  "kernelspec": {
   "display_name": "Python 3.8.8 64-bit ('base': conda)",
   "language": "python",
   "name": "python3"
  },
  "language_info": {
   "codemirror_mode": {
    "name": "ipython",
    "version": 3
   },
   "file_extension": ".py",
   "mimetype": "text/x-python",
   "name": "python",
   "nbconvert_exporter": "python",
   "pygments_lexer": "ipython3",
   "version": "3.8.2"
  },
  "orig_nbformat": 4
 },
 "nbformat": 4,
 "nbformat_minor": 2
}

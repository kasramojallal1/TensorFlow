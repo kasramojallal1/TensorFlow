{
 "cells": [
  {
   "cell_type": "code",
   "execution_count": 7,
   "metadata": {},
   "outputs": [],
   "source": [
    "import tensorflow as tf"
   ]
  },
  {
   "cell_type": "code",
   "execution_count": 8,
   "metadata": {},
   "outputs": [],
   "source": [
    "import numpy as np\n",
    "import matplotlib.pyplot as plt"
   ]
  },
  {
   "cell_type": "code",
   "execution_count": 9,
   "metadata": {},
   "outputs": [],
   "source": [
    "X = np.array([-7.0, -4.0, -1.0, 2.0, 1.0])\n",
    "y = np.array([-3.0, 0.0, 3.0, 6.0, 5.0])"
   ]
  },
  {
   "cell_type": "code",
   "execution_count": 10,
   "metadata": {},
   "outputs": [
    {
     "data": {
      "text/plain": [
       "<matplotlib.collections.PathCollection at 0x7facdd493d90>"
      ]
     },
     "execution_count": 10,
     "metadata": {},
     "output_type": "execute_result"
    },
    {
     "data": {
      "image/png": "[encoded data removed]",
      "text/plain": [
       "<Figure size 432x288 with 1 Axes>"
      ]
     },
     "metadata": {
      "needs_background": "light"
     },
     "output_type": "display_data"
    }
   ],
   "source": [
    "plt.scatter(X, y)"
   ]
  },
  {
   "cell_type": "code",
   "execution_count": 11,
   "metadata": {},
   "outputs": [
    {
     "name": "stdout",
     "output_type": "stream",
     "text": [
      "Epoch 1/5\n",
      "1/1 [==============================] - 0s 252ms/step - loss: 3.5781 - mae: 3.5781\n",
      "Epoch 2/5\n",
      "1/1 [==============================] - 0s 3ms/step - loss: 3.5357 - mae: 3.5357\n",
      "Epoch 3/5\n",
      "1/1 [==============================] - 0s 2ms/step - loss: 3.4933 - mae: 3.4933\n",
      "Epoch 4/5\n",
      "1/1 [==============================] - 0s 2ms/step - loss: 3.4509 - mae: 3.4509\n",
      "Epoch 5/5\n",
      "1/1 [==============================] - 0s 1ms/step - loss: 3.4085 - mae: 3.4085\n"
     ]
    },
    {
     "data": {
      "text/plain": [
       "<keras.callbacks.History at 0x7facdebae820>"
      ]
     },
     "execution_count": 11,
     "metadata": {},
     "output_type": "execute_result"
    }
   ],
   "source": [
    "model = tf.keras.Sequential([\n",
    "    tf.keras.layers.Dense(1)\n",
    "])\n",
    "\n",
    "model.compile(loss=tf.keras.losses.mae,\n",
    "              optimizer=tf.keras.optimizers.SGD(),\n",
    "              metrics=['mae'])\n",
    "\n",
    "model.fit(X, y, epochs=5)"
   ]
  },
  {
   "cell_type": "code",
   "execution_count": 12,
   "metadata": {},
   "outputs": [
    {
     "data": {
      "text/plain": [
       "(array([-7., -4., -1.,  2.,  1.]), array([-3.,  0.,  3.,  6.,  5.]))"
      ]
     },
     "execution_count": 12,
     "metadata": {},
     "output_type": "execute_result"
    }
   ],
   "source": [
    "X, y"
   ]
  },
  {
   "cell_type": "code",
   "execution_count": 13,
   "metadata": {},
   "outputs": [
    {
     "data": {
      "text/plain": [
       "array([[3.4279764]], dtype=float32)"
      ]
     },
     "execution_count": 13,
     "metadata": {},
     "output_type": "execute_result"
    }
   ],
   "source": [
    "model.predict([5])"
   ]
  },
  {
   "cell_type": "markdown",
   "metadata": {},
   "source": [
    "## rebuild the model"
   ]
  },
  {
   "cell_type": "code",
   "execution_count": 14,
   "metadata": {},
   "outputs": [
    {
     "name": "stdout",
     "output_type": "stream",
     "text": [
      "Epoch 1/100\n",
      "1/1 [==============================] - 0s 199ms/step - loss: 6.3181 - mae: 6.3181\n",
      "Epoch 2/100\n",
      "1/1 [==============================] - 0s 2ms/step - loss: 6.2501 - mae: 6.2501\n",
      "Epoch 3/100\n",
      "1/1 [==============================] - 0s 1ms/step - loss: 6.1821 - mae: 6.1821\n",
      "Epoch 4/100\n",
      "1/1 [==============================] - 0s 2ms/step - loss: 6.1141 - mae: 6.1141\n",
      "Epoch 5/100\n",
      "1/1 [==============================] - 0s 2ms/step - loss: 6.0461 - mae: 6.0461\n",
      "Epoch 6/100\n",
      "1/1 [==============================] - 0s 2ms/step - loss: 5.9781 - mae: 5.9781\n",
      "Epoch 7/100\n",
      "1/1 [==============================] - 0s 3ms/step - loss: 5.9101 - mae: 5.9101\n",
      "Epoch 8/100\n",
      "1/1 [==============================] - 0s 2ms/step - loss: 5.8421 - mae: 5.8421\n",
      "Epoch 9/100\n",
      "1/1 [==============================] - 0s 2ms/step - loss: 5.7741 - mae: 5.7741\n",
      "Epoch 10/100\n",
      "1/1 [==============================] - 0s 1ms/step - loss: 5.7061 - mae: 5.7061\n",
      "Epoch 11/100\n",
      "1/1 [==============================] - 0s 2ms/step - loss: 5.6381 - mae: 5.6381\n",
      "Epoch 12/100\n",
      "1/1 [==============================] - 0s 2ms/step - loss: 5.5701 - mae: 5.5701\n",
      "Epoch 13/100\n",
      "1/1 [==============================] - 0s 2ms/step - loss: 5.5021 - mae: 5.5021\n",
      "Epoch 14/100\n",
      "1/1 [==============================] - 0s 2ms/step - loss: 5.4341 - mae: 5.4341\n",
      "Epoch 15/100\n",
      "1/1 [==============================] - 0s 3ms/step - loss: 5.3661 - mae: 5.3661\n",
      "Epoch 16/100\n",
      "1/1 [==============================] - 0s 3ms/step - loss: 5.2981 - mae: 5.2981\n",
      "Epoch 17/100\n",
      "1/1 [==============================] - 0s 2ms/step - loss: 5.2301 - mae: 5.2301\n",
      "Epoch 18/100\n",
      "1/1 [==============================] - 0s 2ms/step - loss: 5.1621 - mae: 5.1621\n",
      "Epoch 19/100\n",
      "1/1 [==============================] - 0s 2ms/step - loss: 5.0941 - mae: 5.0941\n",
      "Epoch 20/100\n",
      "1/1 [==============================] - 0s 2ms/step - loss: 5.0261 - mae: 5.0261\n",
      "Epoch 21/100\n",
      "1/1 [==============================] - 0s 2ms/step - loss: 4.9581 - mae: 4.9581\n",
      "Epoch 22/100\n",
      "1/1 [==============================] - 0s 3ms/step - loss: 4.8901 - mae: 4.8901\n",
      "Epoch 23/100\n",
      "1/1 [==============================] - 0s 2ms/step - loss: 4.8221 - mae: 4.8221\n",
      "Epoch 24/100\n",
      "1/1 [==============================] - 0s 2ms/step - loss: 4.7541 - mae: 4.7541\n",
      "Epoch 25/100\n",
      "1/1 [==============================] - 0s 3ms/step - loss: 4.6861 - mae: 4.6861\n",
      "Epoch 26/100\n",
      "1/1 [==============================] - 0s 2ms/step - loss: 4.6181 - mae: 4.6181\n",
      "Epoch 27/100\n",
      "1/1 [==============================] - 0s 2ms/step - loss: 4.5501 - mae: 4.5501\n",
      "Epoch 28/100\n",
      "1/1 [==============================] - 0s 2ms/step - loss: 4.4821 - mae: 4.4821\n",
      "Epoch 29/100\n",
      "1/1 [==============================] - 0s 2ms/step - loss: 4.4141 - mae: 4.4141\n",
      "Epoch 30/100\n",
      "1/1 [==============================] - 0s 3ms/step - loss: 4.3461 - mae: 4.3461\n",
      "Epoch 31/100\n",
      "1/1 [==============================] - 0s 2ms/step - loss: 4.2781 - mae: 4.2781\n",
      "Epoch 32/100\n",
      "1/1 [==============================] - 0s 3ms/step - loss: 4.2101 - mae: 4.2101\n",
      "Epoch 33/100\n",
      "1/1 [==============================] - 0s 2ms/step - loss: 4.1421 - mae: 4.1421\n",
      "Epoch 34/100\n",
      "1/1 [==============================] - 0s 3ms/step - loss: 4.0741 - mae: 4.0741\n",
      "Epoch 35/100\n",
      "1/1 [==============================] - 0s 3ms/step - loss: 4.0061 - mae: 4.0061\n",
      "Epoch 36/100\n",
      "1/1 [==============================] - 0s 4ms/step - loss: 3.9381 - mae: 3.9381\n",
      "Epoch 37/100\n",
      "1/1 [==============================] - 0s 2ms/step - loss: 3.8701 - mae: 3.8701\n",
      "Epoch 38/100\n",
      "1/1 [==============================] - 0s 3ms/step - loss: 3.8021 - mae: 3.8021\n",
      "Epoch 39/100\n",
      "1/1 [==============================] - 0s 3ms/step - loss: 3.7341 - mae: 3.7341\n",
      "Epoch 40/100\n",
      "1/1 [==============================] - 0s 2ms/step - loss: 3.6661 - mae: 3.6661\n",
      "Epoch 41/100\n",
      "1/1 [==============================] - 0s 3ms/step - loss: 3.5981 - mae: 3.5981\n",
      "Epoch 42/100\n",
      "1/1 [==============================] - 0s 4ms/step - loss: 3.5301 - mae: 3.5301\n",
      "Epoch 43/100\n",
      "1/1 [==============================] - 0s 3ms/step - loss: 3.4621 - mae: 3.4621\n",
      "Epoch 44/100\n",
      "1/1 [==============================] - 0s 3ms/step - loss: 3.3941 - mae: 3.3941\n",
      "Epoch 45/100\n",
      "1/1 [==============================] - 0s 3ms/step - loss: 3.3261 - mae: 3.3261\n",
      "Epoch 46/100\n",
      "1/1 [==============================] - 0s 4ms/step - loss: 3.2984 - mae: 3.2984\n",
      "Epoch 47/100\n",
      "1/1 [==============================] - 0s 3ms/step - loss: 3.2848 - mae: 3.2848\n",
      "Epoch 48/100\n",
      "1/1 [==============================] - 0s 4ms/step - loss: 3.2712 - mae: 3.2712\n",
      "Epoch 49/100\n",
      "1/1 [==============================] - 0s 4ms/step - loss: 3.2576 - mae: 3.2576\n",
      "Epoch 50/100\n",
      "1/1 [==============================] - 0s 5ms/step - loss: 3.2440 - mae: 3.2440\n",
      "Epoch 51/100\n",
      "1/1 [==============================] - 0s 6ms/step - loss: 3.2304 - mae: 3.2304\n",
      "Epoch 52/100\n",
      "1/1 [==============================] - 0s 8ms/step - loss: 3.2168 - mae: 3.2168\n",
      "Epoch 53/100\n",
      "1/1 [==============================] - 0s 7ms/step - loss: 3.2032 - mae: 3.2032\n",
      "Epoch 54/100\n",
      "1/1 [==============================] - 0s 3ms/step - loss: 3.1896 - mae: 3.1896\n",
      "Epoch 55/100\n",
      "1/1 [==============================] - 0s 3ms/step - loss: 3.1760 - mae: 3.1760\n",
      "Epoch 56/100\n",
      "1/1 [==============================] - 0s 3ms/step - loss: 3.1624 - mae: 3.1624\n",
      "Epoch 57/100\n",
      "1/1 [==============================] - 0s 4ms/step - loss: 3.1488 - mae: 3.1488\n",
      "Epoch 58/100\n",
      "1/1 [==============================] - 0s 3ms/step - loss: 3.1352 - mae: 3.1352\n",
      "Epoch 59/100\n",
      "1/1 [==============================] - 0s 2ms/step - loss: 3.1216 - mae: 3.1216\n",
      "Epoch 60/100\n",
      "1/1 [==============================] - 0s 2ms/step - loss: 3.1080 - mae: 3.1080\n",
      "Epoch 61/100\n",
      "1/1 [==============================] - 0s 2ms/step - loss: 3.0944 - mae: 3.0944\n",
      "Epoch 62/100\n",
      "1/1 [==============================] - 0s 2ms/step - loss: 3.0808 - mae: 3.0808\n",
      "Epoch 63/100\n",
      "1/1 [==============================] - 0s 2ms/step - loss: 3.0672 - mae: 3.0672\n",
      "Epoch 64/100\n",
      "1/1 [==============================] - 0s 2ms/step - loss: 3.0536 - mae: 3.0536\n",
      "Epoch 65/100\n",
      "1/1 [==============================] - 0s 3ms/step - loss: 3.0400 - mae: 3.0400\n",
      "Epoch 66/100\n",
      "1/1 [==============================] - 0s 3ms/step - loss: 3.0264 - mae: 3.0264\n",
      "Epoch 67/100\n",
      "1/1 [==============================] - 0s 3ms/step - loss: 3.0128 - mae: 3.0128\n",
      "Epoch 68/100\n",
      "1/1 [==============================] - 0s 2ms/step - loss: 2.9992 - mae: 2.9992\n",
      "Epoch 69/100\n",
      "1/1 [==============================] - 0s 2ms/step - loss: 2.9856 - mae: 2.9856\n",
      "Epoch 70/100\n",
      "1/1 [==============================] - 0s 2ms/step - loss: 2.9720 - mae: 2.9720\n",
      "Epoch 71/100\n",
      "1/1 [==============================] - 0s 2ms/step - loss: 2.9584 - mae: 2.9584\n",
      "Epoch 72/100\n",
      "1/1 [==============================] - 0s 3ms/step - loss: 2.9448 - mae: 2.9448\n",
      "Epoch 73/100\n",
      "1/1 [==============================] - 0s 2ms/step - loss: 2.9312 - mae: 2.9312\n",
      "Epoch 74/100\n",
      "1/1 [==============================] - 0s 5ms/step - loss: 2.9176 - mae: 2.9176\n",
      "Epoch 75/100\n",
      "1/1 [==============================] - 0s 4ms/step - loss: 2.9040 - mae: 2.9040\n",
      "Epoch 76/100\n",
      "1/1 [==============================] - 0s 2ms/step - loss: 2.8904 - mae: 2.8904\n",
      "Epoch 77/100\n",
      "1/1 [==============================] - 0s 2ms/step - loss: 2.8768 - mae: 2.8768\n",
      "Epoch 78/100\n",
      "1/1 [==============================] - 0s 3ms/step - loss: 2.8632 - mae: 2.8632\n",
      "Epoch 79/100\n",
      "1/1 [==============================] - 0s 5ms/step - loss: 2.8496 - mae: 2.8496\n",
      "Epoch 80/100\n",
      "1/1 [==============================] - 0s 40ms/step - loss: 2.8360 - mae: 2.8360\n",
      "Epoch 81/100\n",
      "1/1 [==============================] - 0s 6ms/step - loss: 2.8224 - mae: 2.8224\n",
      "Epoch 82/100\n",
      "1/1 [==============================] - 0s 4ms/step - loss: 2.8088 - mae: 2.8088\n",
      "Epoch 83/100\n",
      "1/1 [==============================] - 0s 4ms/step - loss: 2.7952 - mae: 2.7952\n",
      "Epoch 84/100\n",
      "1/1 [==============================] - 0s 4ms/step - loss: 2.7816 - mae: 2.7816\n",
      "Epoch 85/100\n",
      "1/1 [==============================] - 0s 2ms/step - loss: 2.7680 - mae: 2.7680\n",
      "Epoch 86/100\n",
      "1/1 [==============================] - 0s 3ms/step - loss: 2.7544 - mae: 2.7544\n",
      "Epoch 87/100\n",
      "1/1 [==============================] - 0s 2ms/step - loss: 2.7408 - mae: 2.7408\n",
      "Epoch 88/100\n",
      "1/1 [==============================] - 0s 3ms/step - loss: 2.7272 - mae: 2.7272\n",
      "Epoch 89/100\n",
      "1/1 [==============================] - 0s 5ms/step - loss: 2.7136 - mae: 2.7136\n",
      "Epoch 90/100\n",
      "1/1 [==============================] - 0s 2ms/step - loss: 2.7237 - mae: 2.7237\n",
      "Epoch 91/100\n",
      "1/1 [==============================] - 0s 2ms/step - loss: 2.7120 - mae: 2.7120\n",
      "Epoch 92/100\n",
      "1/1 [==============================] - 0s 1ms/step - loss: 2.6984 - mae: 2.6984\n",
      "Epoch 93/100\n",
      "1/1 [==============================] - 0s 1ms/step - loss: 2.7053 - mae: 2.7053\n",
      "Epoch 94/100\n",
      "1/1 [==============================] - 0s 2ms/step - loss: 2.6968 - mae: 2.6968\n",
      "Epoch 95/100\n",
      "1/1 [==============================] - 0s 2ms/step - loss: 2.6832 - mae: 2.6832\n",
      "Epoch 96/100\n",
      "1/1 [==============================] - 0s 2ms/step - loss: 2.6869 - mae: 2.6869\n",
      "Epoch 97/100\n",
      "1/1 [==============================] - 0s 2ms/step - loss: 2.6816 - mae: 2.6816\n",
      "Epoch 98/100\n",
      "1/1 [==============================] - 0s 2ms/step - loss: 2.6680 - mae: 2.6680\n",
      "Epoch 99/100\n",
      "1/1 [==============================] - 0s 4ms/step - loss: 2.6685 - mae: 2.6685\n",
      "Epoch 100/100\n",
      "1/1 [==============================] - 0s 4ms/step - loss: 2.6664 - mae: 2.6664\n"
     ]
    },
    {
     "data": {
      "text/plain": [
       "<keras.callbacks.History at 0x7facdec39d60>"
      ]
     },
     "execution_count": 14,
     "metadata": {},
     "output_type": "execute_result"
    }
   ],
   "source": [
    "model = tf.keras.Sequential([\n",
    "    tf.keras.layers.Dense(1)\n",
    "])\n",
    "\n",
    "model.compile(\n",
    "    loss = tf.keras.losses.mae,\n",
    "    optimizer = tf.keras.optimizers.SGD(),\n",
    "    metrics=['mae']\n",
    ")\n",
    "\n",
    "model.fit(X, y, epochs=100)"
   ]
  },
  {
   "cell_type": "code",
   "execution_count": 15,
   "metadata": {},
   "outputs": [
    {
     "data": {
      "text/plain": [
       "array([[3.3498247]], dtype=float32)"
      ]
     },
     "execution_count": 15,
     "metadata": {},
     "output_type": "execute_result"
    }
   ],
   "source": [
    "model.predict([6])"
   ]
  },
  {
   "cell_type": "markdown",
   "metadata": {},
   "source": [
    "## another step to improving the model"
   ]
  },
  {
   "cell_type": "code",
   "execution_count": 16,
   "metadata": {},
   "outputs": [
    {
     "name": "stdout",
     "output_type": "stream",
     "text": [
      "Epoch 1/100\n",
      "1/1 [==============================] - 0s 275ms/step - loss: 3.8487 - mae: 3.8487\n",
      "Epoch 2/100\n",
      "1/1 [==============================] - 0s 3ms/step - loss: 3.7700 - mae: 3.7700\n",
      "Epoch 3/100\n",
      "1/1 [==============================] - 0s 2ms/step - loss: 3.6919 - mae: 3.6919\n",
      "Epoch 4/100\n",
      "1/1 [==============================] - 0s 2ms/step - loss: 3.6143 - mae: 3.6143\n",
      "Epoch 5/100\n",
      "1/1 [==============================] - 0s 1ms/step - loss: 3.5373 - mae: 3.5373\n",
      "Epoch 6/100\n",
      "1/1 [==============================] - 0s 2ms/step - loss: 3.4638 - mae: 3.4638\n",
      "Epoch 7/100\n",
      "1/1 [==============================] - 0s 3ms/step - loss: 3.4480 - mae: 3.4480\n",
      "Epoch 8/100\n",
      "1/1 [==============================] - 0s 2ms/step - loss: 3.4323 - mae: 3.4323\n",
      "Epoch 9/100\n",
      "1/1 [==============================] - 0s 2ms/step - loss: 3.4165 - mae: 3.4165\n",
      "Epoch 10/100\n",
      "1/1 [==============================] - 0s 2ms/step - loss: 3.4008 - mae: 3.4008\n",
      "Epoch 11/100\n",
      "1/1 [==============================] - 0s 3ms/step - loss: 3.3851 - mae: 3.3851\n",
      "Epoch 12/100\n",
      "1/1 [==============================] - 0s 3ms/step - loss: 3.3695 - mae: 3.3695\n",
      "Epoch 13/100\n",
      "1/1 [==============================] - 0s 2ms/step - loss: 3.3538 - mae: 3.3538\n",
      "Epoch 14/100\n",
      "1/1 [==============================] - 0s 3ms/step - loss: 3.3381 - mae: 3.3381\n",
      "Epoch 15/100\n",
      "1/1 [==============================] - 0s 2ms/step - loss: 3.3224 - mae: 3.3224\n",
      "Epoch 16/100\n",
      "1/1 [==============================] - 0s 2ms/step - loss: 3.3068 - mae: 3.3068\n",
      "Epoch 17/100\n",
      "1/1 [==============================] - 0s 3ms/step - loss: 3.2911 - mae: 3.2911\n",
      "Epoch 18/100\n",
      "1/1 [==============================] - 0s 3ms/step - loss: 3.2754 - mae: 3.2754\n",
      "Epoch 19/100\n",
      "1/1 [==============================] - 0s 2ms/step - loss: 3.2597 - mae: 3.2597\n",
      "Epoch 20/100\n",
      "1/1 [==============================] - 0s 2ms/step - loss: 3.2440 - mae: 3.2440\n",
      "Epoch 21/100\n",
      "1/1 [==============================] - 0s 1ms/step - loss: 3.2282 - mae: 3.2282\n",
      "Epoch 22/100\n",
      "1/1 [==============================] - 0s 2ms/step - loss: 3.2124 - mae: 3.2124\n",
      "Epoch 23/100\n",
      "1/1 [==============================] - 0s 2ms/step - loss: 3.1967 - mae: 3.1967\n",
      "Epoch 24/100\n",
      "1/1 [==============================] - 0s 2ms/step - loss: 3.1809 - mae: 3.1809\n",
      "Epoch 25/100\n",
      "1/1 [==============================] - 0s 2ms/step - loss: 3.1651 - mae: 3.1651\n",
      "Epoch 26/100\n",
      "1/1 [==============================] - 0s 2ms/step - loss: 3.1492 - mae: 3.1492\n",
      "Epoch 27/100\n",
      "1/1 [==============================] - 0s 2ms/step - loss: 3.1333 - mae: 3.1333\n",
      "Epoch 28/100\n",
      "1/1 [==============================] - 0s 3ms/step - loss: 3.1174 - mae: 3.1174\n",
      "Epoch 29/100\n",
      "1/1 [==============================] - 0s 2ms/step - loss: 3.1012 - mae: 3.1012\n",
      "Epoch 30/100\n",
      "1/1 [==============================] - 0s 2ms/step - loss: 3.0850 - mae: 3.0850\n",
      "Epoch 31/100\n",
      "1/1 [==============================] - 0s 2ms/step - loss: 3.0692 - mae: 3.0692\n",
      "Epoch 32/100\n",
      "1/1 [==============================] - 0s 2ms/step - loss: 3.0532 - mae: 3.0532\n",
      "Epoch 33/100\n",
      "1/1 [==============================] - 0s 2ms/step - loss: 3.0373 - mae: 3.0373\n",
      "Epoch 34/100\n",
      "1/1 [==============================] - 0s 2ms/step - loss: 3.0212 - mae: 3.0212\n",
      "Epoch 35/100\n",
      "1/1 [==============================] - 0s 2ms/step - loss: 3.0051 - mae: 3.0051\n",
      "Epoch 36/100\n",
      "1/1 [==============================] - 0s 2ms/step - loss: 2.9890 - mae: 2.9890\n",
      "Epoch 37/100\n",
      "1/1 [==============================] - 0s 2ms/step - loss: 2.9729 - mae: 2.9729\n",
      "Epoch 38/100\n",
      "1/1 [==============================] - 0s 2ms/step - loss: 2.9566 - mae: 2.9566\n",
      "Epoch 39/100\n",
      "1/1 [==============================] - 0s 1ms/step - loss: 2.9402 - mae: 2.9402\n",
      "Epoch 40/100\n",
      "1/1 [==============================] - 0s 2ms/step - loss: 2.9239 - mae: 2.9239\n",
      "Epoch 41/100\n",
      "1/1 [==============================] - 0s 2ms/step - loss: 2.9075 - mae: 2.9075\n",
      "Epoch 42/100\n",
      "1/1 [==============================] - 0s 2ms/step - loss: 2.8913 - mae: 2.8913\n",
      "Epoch 43/100\n",
      "1/1 [==============================] - 0s 2ms/step - loss: 2.8749 - mae: 2.8749\n",
      "Epoch 44/100\n",
      "1/1 [==============================] - 0s 2ms/step - loss: 2.8586 - mae: 2.8586\n",
      "Epoch 45/100\n",
      "1/1 [==============================] - 0s 2ms/step - loss: 2.8423 - mae: 2.8423\n",
      "Epoch 46/100\n",
      "1/1 [==============================] - 0s 2ms/step - loss: 2.8259 - mae: 2.8259\n",
      "Epoch 47/100\n",
      "1/1 [==============================] - 0s 2ms/step - loss: 2.8094 - mae: 2.8094\n",
      "Epoch 48/100\n",
      "1/1 [==============================] - 0s 2ms/step - loss: 2.7929 - mae: 2.7929\n",
      "Epoch 49/100\n",
      "1/1 [==============================] - 0s 2ms/step - loss: 2.7764 - mae: 2.7764\n",
      "Epoch 50/100\n",
      "1/1 [==============================] - 0s 2ms/step - loss: 2.7598 - mae: 2.7598\n",
      "Epoch 51/100\n",
      "1/1 [==============================] - 0s 1ms/step - loss: 2.7432 - mae: 2.7432\n",
      "Epoch 52/100\n",
      "1/1 [==============================] - 0s 2ms/step - loss: 2.7264 - mae: 2.7264\n",
      "Epoch 53/100\n",
      "1/1 [==============================] - 0s 2ms/step - loss: 2.7096 - mae: 2.7096\n",
      "Epoch 54/100\n",
      "1/1 [==============================] - 0s 2ms/step - loss: 2.6927 - mae: 2.6927\n",
      "Epoch 55/100\n",
      "1/1 [==============================] - 0s 2ms/step - loss: 2.6756 - mae: 2.6756\n",
      "Epoch 56/100\n",
      "1/1 [==============================] - 0s 2ms/step - loss: 2.6586 - mae: 2.6586\n",
      "Epoch 57/100\n",
      "1/1 [==============================] - 0s 2ms/step - loss: 2.6414 - mae: 2.6414\n",
      "Epoch 58/100\n",
      "1/1 [==============================] - 0s 2ms/step - loss: 2.6242 - mae: 2.6242\n",
      "Epoch 59/100\n",
      "1/1 [==============================] - 0s 3ms/step - loss: 2.6070 - mae: 2.6070\n",
      "Epoch 60/100\n",
      "1/1 [==============================] - 0s 3ms/step - loss: 2.5896 - mae: 2.5896\n",
      "Epoch 61/100\n",
      "1/1 [==============================] - 0s 3ms/step - loss: 2.5722 - mae: 2.5722\n",
      "Epoch 62/100\n",
      "1/1 [==============================] - 0s 6ms/step - loss: 2.5547 - mae: 2.5547\n",
      "Epoch 63/100\n",
      "1/1 [==============================] - 0s 3ms/step - loss: 2.5371 - mae: 2.5371\n",
      "Epoch 64/100\n",
      "1/1 [==============================] - 0s 3ms/step - loss: 2.5195 - mae: 2.5195\n",
      "Epoch 65/100\n",
      "1/1 [==============================] - 0s 4ms/step - loss: 2.5017 - mae: 2.5017\n",
      "Epoch 66/100\n",
      "1/1 [==============================] - 0s 4ms/step - loss: 2.4838 - mae: 2.4838\n",
      "Epoch 67/100\n",
      "1/1 [==============================] - 0s 4ms/step - loss: 2.4659 - mae: 2.4659\n",
      "Epoch 68/100\n",
      "1/1 [==============================] - 0s 3ms/step - loss: 2.4478 - mae: 2.4478\n",
      "Epoch 69/100\n",
      "1/1 [==============================] - 0s 3ms/step - loss: 2.4296 - mae: 2.4296\n",
      "Epoch 70/100\n",
      "1/1 [==============================] - 0s 2ms/step - loss: 2.4114 - mae: 2.4114\n",
      "Epoch 71/100\n",
      "1/1 [==============================] - 0s 2ms/step - loss: 2.3930 - mae: 2.3930\n",
      "Epoch 72/100\n",
      "1/1 [==============================] - 0s 2ms/step - loss: 2.3744 - mae: 2.3744\n",
      "Epoch 73/100\n",
      "1/1 [==============================] - 0s 2ms/step - loss: 2.3556 - mae: 2.3556\n",
      "Epoch 74/100\n",
      "1/1 [==============================] - 0s 2ms/step - loss: 2.3365 - mae: 2.3365\n",
      "Epoch 75/100\n",
      "1/1 [==============================] - 0s 2ms/step - loss: 2.3174 - mae: 2.3174\n",
      "Epoch 76/100\n",
      "1/1 [==============================] - 0s 2ms/step - loss: 2.2981 - mae: 2.2981\n",
      "Epoch 77/100\n",
      "1/1 [==============================] - 0s 2ms/step - loss: 2.2786 - mae: 2.2786\n",
      "Epoch 78/100\n",
      "1/1 [==============================] - 0s 3ms/step - loss: 2.2591 - mae: 2.2591\n",
      "Epoch 79/100\n",
      "1/1 [==============================] - 0s 2ms/step - loss: 2.2393 - mae: 2.2393\n",
      "Epoch 80/100\n",
      "1/1 [==============================] - 0s 2ms/step - loss: 2.2337 - mae: 2.2337\n",
      "Epoch 81/100\n",
      "1/1 [==============================] - 0s 2ms/step - loss: 2.2184 - mae: 2.2184\n",
      "Epoch 82/100\n",
      "1/1 [==============================] - 0s 3ms/step - loss: 2.1982 - mae: 2.1982\n",
      "Epoch 83/100\n",
      "1/1 [==============================] - 0s 1ms/step - loss: 2.1778 - mae: 2.1778\n",
      "Epoch 84/100\n",
      "1/1 [==============================] - 0s 2ms/step - loss: 2.1574 - mae: 2.1574\n",
      "Epoch 85/100\n",
      "1/1 [==============================] - 0s 1ms/step - loss: 2.1372 - mae: 2.1372\n",
      "Epoch 86/100\n",
      "1/1 [==============================] - 0s 2ms/step - loss: 2.1166 - mae: 2.1166\n",
      "Epoch 87/100\n",
      "1/1 [==============================] - 0s 2ms/step - loss: 2.0960 - mae: 2.0960\n",
      "Epoch 88/100\n",
      "1/1 [==============================] - 0s 2ms/step - loss: 2.0858 - mae: 2.0858\n",
      "Epoch 89/100\n",
      "1/1 [==============================] - 0s 2ms/step - loss: 2.0722 - mae: 2.0722\n",
      "Epoch 90/100\n",
      "1/1 [==============================] - 0s 3ms/step - loss: 2.0512 - mae: 2.0512\n",
      "Epoch 91/100\n",
      "1/1 [==============================] - 0s 2ms/step - loss: 2.0300 - mae: 2.0300\n",
      "Epoch 92/100\n",
      "1/1 [==============================] - 0s 2ms/step - loss: 2.0086 - mae: 2.0086\n",
      "Epoch 93/100\n",
      "1/1 [==============================] - 0s 3ms/step - loss: 1.9870 - mae: 1.9870\n",
      "Epoch 94/100\n",
      "1/1 [==============================] - 0s 4ms/step - loss: 1.9651 - mae: 1.9651\n",
      "Epoch 95/100\n",
      "1/1 [==============================] - 0s 2ms/step - loss: 1.9430 - mae: 1.9430\n",
      "Epoch 96/100\n",
      "1/1 [==============================] - 0s 2ms/step - loss: 1.9281 - mae: 1.9281\n",
      "Epoch 97/100\n",
      "1/1 [==============================] - 0s 2ms/step - loss: 1.9166 - mae: 1.9166\n",
      "Epoch 98/100\n",
      "1/1 [==============================] - 0s 2ms/step - loss: 1.8940 - mae: 1.8940\n",
      "Epoch 99/100\n",
      "1/1 [==============================] - 0s 2ms/step - loss: 1.8714 - mae: 1.8714\n",
      "Epoch 100/100\n",
      "1/1 [==============================] - 0s 2ms/step - loss: 1.8484 - mae: 1.8484\n"
     ]
    },
    {
     "data": {
      "text/plain": [
       "<keras.callbacks.History at 0x7facdec38940>"
      ]
     },
     "execution_count": 16,
     "metadata": {},
     "output_type": "execute_result"
    }
   ],
   "source": [
    "model = tf.keras.Sequential([\n",
    "    tf.keras.layers.Dense(100, activation='relu'),\n",
    "    tf.keras.layers.Dense(1)\n",
    "])\n",
    "\n",
    "model.compile(\n",
    "    loss = 'mae',\n",
    "    optimizer = tf.keras.optimizers.SGD(),\n",
    "    metrics = ['mae']\n",
    ")\n",
    "\n",
    "model.fit(X, y, epochs=100)"
   ]
  },
  {
   "cell_type": "code",
   "execution_count": 17,
   "metadata": {},
   "outputs": [
    {
     "data": {
      "text/plain": [
       "array([[9.790489]], dtype=float32)"
      ]
     },
     "execution_count": 17,
     "metadata": {},
     "output_type": "execute_result"
    }
   ],
   "source": [
    "model.predict([7])"
   ]
  },
  {
   "cell_type": "markdown",
   "metadata": {},
   "source": [
    "## make a bigger dataset"
   ]
  },
  {
   "cell_type": "code",
   "execution_count": 18,
   "metadata": {},
   "outputs": [
    {
     "data": {
      "text/plain": [
       "<tf.Tensor: shape=(50,), dtype=int32, numpy=\n",
       "array([-100,  -96,  -92,  -88,  -84,  -80,  -76,  -72,  -68,  -64,  -60,\n",
       "        -56,  -52,  -48,  -44,  -40,  -36,  -32,  -28,  -24,  -20,  -16,\n",
       "        -12,   -8,   -4,    0,    4,    8,   12,   16,   20,   24,   28,\n",
       "         32,   36,   40,   44,   48,   52,   56,   60,   64,   68,   72,\n",
       "         76,   80,   84,   88,   92,   96], dtype=int32)>"
      ]
     },
     "execution_count": 18,
     "metadata": {},
     "output_type": "execute_result"
    }
   ],
   "source": [
    "X = tf.range(-100, 100, 4)\n",
    "X"
   ]
  },
  {
   "cell_type": "code",
   "execution_count": 19,
   "metadata": {},
   "outputs": [
    {
     "data": {
      "text/plain": [
       "<tf.Tensor: shape=(50,), dtype=int32, numpy=\n",
       "array([-90, -86, -82, -78, -74, -70, -66, -62, -58, -54, -50, -46, -42,\n",
       "       -38, -34, -30, -26, -22, -18, -14, -10,  -6,  -2,   2,   6,  10,\n",
       "        14,  18,  22,  26,  30,  34,  38,  42,  46,  50,  54,  58,  62,\n",
       "        66,  70,  74,  78,  82,  86,  90,  94,  98, 102, 106], dtype=int32)>"
      ]
     },
     "execution_count": 19,
     "metadata": {},
     "output_type": "execute_result"
    }
   ],
   "source": [
    "y = X + 10\n",
    "y"
   ]
  },
  {
   "cell_type": "code",
   "execution_count": 20,
   "metadata": {},
   "outputs": [],
   "source": [
    "import matplotlib.pyplot as plt"
   ]
  },
  {
   "cell_type": "code",
   "execution_count": 21,
   "metadata": {},
   "outputs": [
    {
     "data": {
      "text/plain": [
       "[<matplotlib.lines.Line2D at 0x7facdf931dc0>]"
      ]
     },
     "execution_count": 21,
     "metadata": {},
     "output_type": "execute_result"
    },
    {
     "data": {
      "image/png": "[encoded data removed]",
      "text/plain": [
       "<Figure size 432x288 with 1 Axes>"
      ]
     },
     "metadata": {
      "needs_background": "light"
     },
     "output_type": "display_data"
    }
   ],
   "source": [
    "plt.plot(X, y)"
   ]
  },
  {
   "cell_type": "code",
   "execution_count": 22,
   "metadata": {},
   "outputs": [
    {
     "data": {
      "text/plain": [
       "(40, 10)"
      ]
     },
     "execution_count": 22,
     "metadata": {},
     "output_type": "execute_result"
    }
   ],
   "source": [
    "X_train = X[:40]\n",
    "y_train = y[:40]\n",
    "\n",
    "X_test = X[40:]\n",
    "y_test = y[40:]\n",
    "\n",
    "len(X_train), len(X_test)"
   ]
  },
  {
   "cell_type": "code",
   "execution_count": 23,
   "metadata": {},
   "outputs": [
    {
     "data": {
      "text/plain": [
       "<matplotlib.collections.PathCollection at 0x7facdfb1fa30>"
      ]
     },
     "execution_count": 23,
     "metadata": {},
     "output_type": "execute_result"
    },
    {
     "data": {
      "image/png": "[encoded data removed]",
      "text/plain": [
       "<Figure size 720x504 with 1 Axes>"
      ]
     },
     "metadata": {
      "needs_background": "light"
     },
     "output_type": "display_data"
    }
   ],
   "source": [
    "plt.figure(figsize=(10, 7))\n",
    "plt.scatter(X_train, y_train, c='b')\n",
    "plt.scatter(X_test, y_test, c='g')"
   ]
  },
  {
   "cell_type": "code",
   "execution_count": 24,
   "metadata": {},
   "outputs": [],
   "source": [
    "model = tf.keras.Sequential([\n",
    "    tf.keras.layers.Dense(1)\n",
    "])\n",
    "\n",
    "model.compile(\n",
    "    loss = tf.keras.losses.mae,\n",
    "    optimizer = tf.keras.optimizers.SGD(),\n",
    "    metrics = ['mae']\n",
    ")\n",
    "\n",
    "# model.fit(X_train, y_train, epochs=100)"
   ]
  },
  {
   "cell_type": "code",
   "execution_count": 25,
   "metadata": {},
   "outputs": [],
   "source": [
    "tf.random.set_seed(42)\n",
    "\n",
    "model = tf.keras.Sequential([\n",
    "    tf.keras.layers.Dense(1, input_shape = [1])\n",
    "])\n",
    "\n",
    "model.compile(\n",
    "    loss = tf.keras.losses.mae,\n",
    "    optimizer = tf.keras.optimizers.SGD(),\n",
    "    metrics = ['mae']\n",
    ")"
   ]
  },
  {
   "cell_type": "code",
   "execution_count": 26,
   "metadata": {},
   "outputs": [
    {
     "name": "stdout",
     "output_type": "stream",
     "text": [
      "Model: \"sequential_4\"\n",
      "_________________________________________________________________\n",
      "Layer (type)                 Output Shape              Param #   \n",
      "=================================================================\n",
      "dense_5 (Dense)              (None, 1)                 2         \n",
      "=================================================================\n",
      "Total params: 2\n",
      "Trainable params: 2\n",
      "Non-trainable params: 0\n",
      "_________________________________________________________________\n"
     ]
    }
   ],
   "source": [
    "model.summary()"
   ]
  },
  {
   "cell_type": "code",
   "execution_count": 33,
   "metadata": {},
   "outputs": [
    {
     "data": {
      "text/plain": [
       "<keras.callbacks.History at 0x7facdfba6340>"
      ]
     },
     "execution_count": 33,
     "metadata": {},
     "output_type": "execute_result"
    }
   ],
   "source": [
    "tf.random.set_seed(42)\n",
    "\n",
    "model = tf.keras.Sequential([\n",
    "    tf.keras.layers.Dense(10, input_shape = [1]),\n",
    "    tf.keras.layers.Dense(1)\n",
    "], name = 'Model_1')\n",
    "\n",
    "model.compile(\n",
    "    loss = tf.keras.losses.mae,\n",
    "    optimizer = tf.keras.optimizers.SGD(),\n",
    "    metrics = ['mae']\n",
    ")\n",
    "\n",
    "model.fit(X_train, y_train, verbose=0)"
   ]
  },
  {
   "cell_type": "code",
   "execution_count": 34,
   "metadata": {},
   "outputs": [
    {
     "name": "stdout",
     "output_type": "stream",
     "text": [
      "Model: \"Model_1\"\n",
      "_________________________________________________________________\n",
      "Layer (type)                 Output Shape              Param #   \n",
      "=================================================================\n",
      "dense_7 (Dense)              (None, 10)                20        \n",
      "_________________________________________________________________\n",
      "dense_8 (Dense)              (None, 1)                 11        \n",
      "=================================================================\n",
      "Total params: 31\n",
      "Trainable params: 31\n",
      "Non-trainable params: 0\n",
      "_________________________________________________________________\n"
     ]
    }
   ],
   "source": [
    "model.summary()"
   ]
  },
  {
   "cell_type": "code",
   "execution_count": 35,
   "metadata": {},
   "outputs": [],
   "source": [
    "from tensorflow.keras.utils import plot_model"
   ]
  },
  {
   "cell_type": "code",
   "execution_count": 36,
   "metadata": {},
   "outputs": [
    {
     "data": {
      "image/png": "[encoded data removed]",
      "text/plain": [
       "<IPython.core.display.Image object>"
      ]
     },
     "execution_count": 36,
     "metadata": {},
     "output_type": "execute_result"
    }
   ],
   "source": [
    "plot_model(model=model, show_shapes=True)"
   ]
  },
  {
   "cell_type": "code",
   "execution_count": 37,
   "metadata": {},
   "outputs": [
    {
     "data": {
      "text/plain": [
       "array([[25.294891],\n",
       "       [26.980553],\n",
       "       [28.66621 ],\n",
       "       [30.351864],\n",
       "       [32.037525],\n",
       "       [33.72318 ],\n",
       "       [35.408836],\n",
       "       [37.094498],\n",
       "       [38.78015 ],\n",
       "       [40.465816]], dtype=float32)"
      ]
     },
     "execution_count": 37,
     "metadata": {},
     "output_type": "execute_result"
    }
   ],
   "source": [
    "y_preds = model.predict(X_test)\n",
    "y_preds"
   ]
  },
  {
   "cell_type": "code",
   "execution_count": 38,
   "metadata": {},
   "outputs": [],
   "source": [
    "def plot_predictions(train_data=X_train, \n",
    "                     train_labels=y_train, \n",
    "                     test_data=X_test, \n",
    "                     test_labels=y_test, \n",
    "                     predictions=y_preds):\n",
    "  \"\"\"\n",
    "  Plots training data, test data and compares predictions.\n",
    "  \"\"\"\n",
    "  plt.figure(figsize=(10, 7))\n",
    "  # Plot training data in blue\n",
    "  plt.scatter(train_data, train_labels, c=\"b\", label=\"Training data\")\n",
    "  # Plot test data in green\n",
    "  plt.scatter(test_data, test_labels, c=\"g\", label=\"Testing data\")\n",
    "  # Plot the predictions in red (predictions were made on the test data)\n",
    "  plt.scatter(test_data, predictions, c=\"r\", label=\"Predictions\")\n",
    "  # Show the legend\n",
    "  plt.legend();"
   ]
  },
  {
   "cell_type": "code",
   "execution_count": 39,
   "metadata": {},
   "outputs": [
    {
     "data": {
      "image/png": "[encoded data removed]",
      "text/plain": [
       "<Figure size 720x504 with 1 Axes>"
      ]
     },
     "metadata": {
      "needs_background": "light"
     },
     "output_type": "display_data"
    }
   ],
   "source": [
    "plot_predictions(train_data=X_train,\n",
    "                 train_labels=y_train,\n",
    "                 test_data=X_test,\n",
    "                 test_labels=y_test,\n",
    "                 predictions=y_preds)"
   ]
  },
  {
   "cell_type": "code",
   "execution_count": 40,
   "metadata": {},
   "outputs": [
    {
     "name": "stdout",
     "output_type": "stream",
     "text": [
      "1/1 [==============================] - 0s 150ms/step - loss: 55.1196 - mae: 55.1196\n"
     ]
    },
    {
     "data": {
      "text/plain": [
       "[55.11964797973633, 55.11964797973633]"
      ]
     },
     "execution_count": 40,
     "metadata": {},
     "output_type": "execute_result"
    }
   ],
   "source": [
    "model.evaluate(X_test, y_test)"
   ]
  },
  {
   "cell_type": "code",
   "execution_count": 48,
   "metadata": {},
   "outputs": [
    {
     "data": {
      "text/plain": [
       "<tf.Tensor: shape=(), dtype=float32, numpy=55.119648>"
      ]
     },
     "execution_count": 48,
     "metadata": {},
     "output_type": "execute_result"
    }
   ],
   "source": [
    "mae = tf.metrics.mean_absolute_error(y_true=y_test,\n",
    "                               y_pred = tf.squeeze(y_preds))\n",
    "mae"
   ]
  },
  {
   "cell_type": "code",
   "execution_count": 49,
   "metadata": {},
   "outputs": [
    {
     "data": {
      "text/plain": [
       "<keras.callbacks.History at 0x7facdfeb0df0>"
      ]
     },
     "execution_count": 49,
     "metadata": {},
     "output_type": "execute_result"
    }
   ],
   "source": [
    "tf.random.set_seed(42)\n",
    "\n",
    "model = tf.keras.Sequential([\n",
    "    tf.keras.layers.Dense(1)\n",
    "], name = 'Model_1')\n",
    "\n",
    "model.compile(\n",
    "    loss = tf.keras.losses.mae,\n",
    "    optimizer = tf.keras.optimizers.SGD(),\n",
    "    metrics = ['mae']\n",
    ")\n",
    "\n",
    "model.fit(X_train, y_train, epochs=100, verbose=0)"
   ]
  },
  {
   "cell_type": "markdown",
   "metadata": {},
   "source": [
    "## Saving a model"
   ]
  },
  {
   "cell_type": "code",
   "execution_count": 52,
   "metadata": {},
   "outputs": [
    {
     "name": "stdout",
     "output_type": "stream",
     "text": [
      "INFO:tensorflow:Assets written to: best_model/assets\n"
     ]
    }
   ],
   "source": [
    "model.save('best_model')"
   ]
  },
  {
   "cell_type": "code",
   "execution_count": 53,
   "metadata": {},
   "outputs": [],
   "source": [
    "model.save('best_model.h5')"
   ]
  },
  {
   "cell_type": "markdown",
   "metadata": {},
   "source": [
    "## Loading a model"
   ]
  },
  {
   "cell_type": "code",
   "execution_count": 55,
   "metadata": {},
   "outputs": [],
   "source": [
    "loaded_model = tf.keras.models.load_model('./best_model')"
   ]
  },
  {
   "cell_type": "code",
   "execution_count": 57,
   "metadata": {},
   "outputs": [
    {
     "name": "stdout",
     "output_type": "stream",
     "text": [
      "Model: \"Model_1\"\n",
      "_________________________________________________________________\n",
      "Layer (type)                 Output Shape              Param #   \n",
      "=================================================================\n",
      "dense_9 (Dense)              (None, 1)                 2         \n",
      "=================================================================\n",
      "Total params: 2\n",
      "Trainable params: 2\n",
      "Non-trainable params: 0\n",
      "_________________________________________________________________\n"
     ]
    }
   ],
   "source": [
    "loaded_model.summary()"
   ]
  }
 ],
 "metadata": {
  "interpreter": {
   "hash": "ba181f63e9d4d2546882c6557f001599fbd08286524a1352a15ceb4bcf4e5348"
  },
  "kernelspec": {
   "display_name": "Python 3.8.8 64-bit ('base': conda)",
   "language": "python",
   "name": "python3"
  },
  "language_info": {
   "codemirror_mode": {
    "name": "ipython",
    "version": 3
   },
   "file_extension": ".py",
   "mimetype": "text/x-python",
   "name": "python",
   "nbconvert_exporter": "python",
   "pygments_lexer": "ipython3",
   "version": "3.8.2"
  },
  "orig_nbformat": 4
 },
 "nbformat": 4,
 "nbformat_minor": 2
}
